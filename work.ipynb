{
 "cells": [
  {
   "cell_type": "code",
   "execution_count": 26,
   "metadata": {},
   "outputs": [],
   "source": [
    "import pandas as pd\n",
    "import numpy as np\n",
    "import matplotlib.pyplot as plt\n",
    "import os\n",
    "from tqdm import tqdm"
   ]
  },
  {
   "cell_type": "code",
   "execution_count": 27,
   "metadata": {},
   "outputs": [
    {
     "name": "stderr",
     "output_type": "stream",
     "text": [
      "loading sprites/sprites/pokemon/269.png:   0%|          | 141/43491 [00:00<01:05, 666.15it/s]             "
     ]
    },
    {
     "name": "stderr",
     "output_type": "stream",
     "text": [
      "loading sprites/sprites/pokemon/versions/generation-iv/diamond-pearl/female/449.png: 100%|██████████| 43491/43491 [01:37<00:00, 447.01it/s]                       \n"
     ]
    },
    {
     "name": "stdout",
     "output_type": "stream",
     "text": [
      "43491 43491\n"
     ]
    }
   ],
   "source": [
    "# load the path of all .png files under sprites/ into a dataframe with the columns \"path\" and \"size\", where size is the size of the image in pixels (width x height)\n",
    "def load_sprites():\n",
    "    # get the path of all .png files under sprites/\n",
    "    paths = []\n",
    "    for root, dirs, files in os.walk(\"sprites/sprites/pokemon/\"):\n",
    "        for file in files:\n",
    "            if file.endswith(\".png\"):\n",
    "                paths.append(os.path.join(root, file))\n",
    "    # get the size of each image\n",
    "    sizes = []\n",
    "    pbar = tqdm(paths)\n",
    "    for path in paths:\n",
    "        try:\n",
    "            img = plt.imread(path)\n",
    "            sizes.append(img.shape[1::-1])\n",
    "            pbar.set_description(f\"loading {path}\")\n",
    "            pbar.update(1)\n",
    "        except:\n",
    "            #remove the path from the list if the image is not readable\n",
    "            sizes.append(np.nan)\n",
    "            pbar.set_description(f\"removing {path}\")\n",
    "            pbar.update(1)\n",
    "    pbar.close()\n",
    "    print(len(paths), len(sizes))\n",
    "    # create a dataframe\n",
    "    df = pd.DataFrame({\"path\": paths, \"size\": sizes})\n",
    "    return df\n",
    "\n",
    "df = load_sprites()"
   ]
  },
  {
   "cell_type": "code",
   "execution_count": 28,
   "metadata": {},
   "outputs": [
    {
     "data": {
      "text/html": [
       "<div>\n",
       "<style scoped>\n",
       "    .dataframe tbody tr th:only-of-type {\n",
       "        vertical-align: middle;\n",
       "    }\n",
       "\n",
       "    .dataframe tbody tr th {\n",
       "        vertical-align: top;\n",
       "    }\n",
       "\n",
       "    .dataframe thead th {\n",
       "        text-align: right;\n",
       "    }\n",
       "</style>\n",
       "<table border=\"1\" class=\"dataframe\">\n",
       "  <thead>\n",
       "    <tr style=\"text-align: right;\">\n",
       "      <th></th>\n",
       "      <th>ratio</th>\n",
       "      <th>dim</th>\n",
       "    </tr>\n",
       "  </thead>\n",
       "  <tbody>\n",
       "    <tr>\n",
       "      <th>count</th>\n",
       "      <td>39056.0</td>\n",
       "      <td>39056.000000</td>\n",
       "    </tr>\n",
       "    <tr>\n",
       "      <th>mean</th>\n",
       "      <td>1.0</td>\n",
       "      <td>145.485431</td>\n",
       "    </tr>\n",
       "    <tr>\n",
       "      <th>std</th>\n",
       "      <td>0.0</td>\n",
       "      <td>145.954346</td>\n",
       "    </tr>\n",
       "    <tr>\n",
       "      <th>min</th>\n",
       "      <td>1.0</td>\n",
       "      <td>32.000000</td>\n",
       "    </tr>\n",
       "    <tr>\n",
       "      <th>25%</th>\n",
       "      <td>1.0</td>\n",
       "      <td>80.000000</td>\n",
       "    </tr>\n",
       "    <tr>\n",
       "      <th>50%</th>\n",
       "      <td>1.0</td>\n",
       "      <td>96.000000</td>\n",
       "    </tr>\n",
       "    <tr>\n",
       "      <th>75%</th>\n",
       "      <td>1.0</td>\n",
       "      <td>120.000000</td>\n",
       "    </tr>\n",
       "    <tr>\n",
       "      <th>max</th>\n",
       "      <td>1.0</td>\n",
       "      <td>512.000000</td>\n",
       "    </tr>\n",
       "  </tbody>\n",
       "</table>\n",
       "</div>"
      ],
      "text/plain": [
       "         ratio           dim\n",
       "count  39056.0  39056.000000\n",
       "mean       1.0    145.485431\n",
       "std        0.0    145.954346\n",
       "min        1.0     32.000000\n",
       "25%        1.0     80.000000\n",
       "50%        1.0     96.000000\n",
       "75%        1.0    120.000000\n",
       "max        1.0    512.000000"
      ]
     },
     "execution_count": 28,
     "metadata": {},
     "output_type": "execute_result"
    },
    {
     "data": {
      "image/png": "[encoded data removed]",
      "text/plain": [
       "<Figure size 640x480 with 1 Axes>"
      ]
     },
     "metadata": {},
     "output_type": "display_data"
    }
   ],
   "source": [
    "df = df.dropna()\n",
    "df[\"ratio\"]= df[\"size\"].apply(lambda x: x[0]/x[1])\n",
    "df[\"ratio\"].hist(bins=100)\n",
    "df= df[df[\"ratio\"]==1.0]\n",
    "df[\"dim\"]= df[\"size\"].apply(lambda x: x[0])\n",
    "df.head()\n",
    "df.describe()"
   ]
  },
  {
   "cell_type": "code",
   "execution_count": 29,
   "metadata": {},
   "outputs": [
    {
     "data": {
      "text/plain": [
       "(array([7.550e+02, 8.500e+02, 4.000e+00, 2.413e+03, 0.000e+00, 8.290e+02,\n",
       "        3.140e+03, 6.000e+00, 2.000e+00, 3.400e+01, 8.337e+03, 0.000e+00,\n",
       "        1.000e+00, 1.182e+04, 1.000e+00, 9.000e+00, 0.000e+00, 0.000e+00,\n",
       "        2.037e+03, 0.000e+00, 3.150e+03, 0.000e+00, 0.000e+00, 0.000e+00,\n",
       "        0.000e+00, 0.000e+00, 0.000e+00, 0.000e+00, 0.000e+00, 0.000e+00,\n",
       "        0.000e+00, 0.000e+00, 0.000e+00, 0.000e+00, 0.000e+00, 0.000e+00,\n",
       "        0.000e+00, 0.000e+00, 0.000e+00, 0.000e+00, 0.000e+00, 0.000e+00,\n",
       "        0.000e+00, 0.000e+00, 0.000e+00, 0.000e+00, 0.000e+00, 0.000e+00,\n",
       "        0.000e+00, 0.000e+00, 0.000e+00, 0.000e+00, 0.000e+00, 0.000e+00,\n",
       "        0.000e+00, 0.000e+00, 0.000e+00, 0.000e+00, 0.000e+00, 0.000e+00,\n",
       "        0.000e+00, 0.000e+00, 0.000e+00, 0.000e+00, 0.000e+00, 0.000e+00,\n",
       "        0.000e+00, 0.000e+00, 0.000e+00, 0.000e+00, 0.000e+00, 0.000e+00,\n",
       "        0.000e+00, 0.000e+00, 0.000e+00, 0.000e+00, 0.000e+00, 0.000e+00,\n",
       "        0.000e+00, 0.000e+00, 0.000e+00, 0.000e+00, 0.000e+00, 0.000e+00,\n",
       "        0.000e+00, 0.000e+00, 0.000e+00, 0.000e+00, 0.000e+00, 0.000e+00,\n",
       "        0.000e+00, 0.000e+00, 2.573e+03, 0.000e+00, 0.000e+00, 0.000e+00,\n",
       "        0.000e+00, 0.000e+00, 0.000e+00, 3.095e+03]),\n",
       " array([ 32. ,  36.8,  41.6,  46.4,  51.2,  56. ,  60.8,  65.6,  70.4,\n",
       "         75.2,  80. ,  84.8,  89.6,  94.4,  99.2, 104. , 108.8, 113.6,\n",
       "        118.4, 123.2, 128. , 132.8, 137.6, 142.4, 147.2, 152. , 156.8,\n",
       "        161.6, 166.4, 171.2, 176. , 180.8, 185.6, 190.4, 195.2, 200. ,\n",
       "        204.8, 209.6, 214.4, 219.2, 224. , 228.8, 233.6, 238.4, 243.2,\n",
       "        248. , 252.8, 257.6, 262.4, 267.2, 272. , 276.8, 281.6, 286.4,\n",
       "        291.2, 296. , 300.8, 305.6, 310.4, 315.2, 320. , 324.8, 329.6,\n",
       "        334.4, 339.2, 344. , 348.8, 353.6, 358.4, 363.2, 368. , 372.8,\n",
       "        377.6, 382.4, 387.2, 392. , 396.8, 401.6, 406.4, 411.2, 416. ,\n",
       "        420.8, 425.6, 430.4, 435.2, 440. , 444.8, 449.6, 454.4, 459.2,\n",
       "        464. , 468.8, 473.6, 478.4, 483.2, 488. , 492.8, 497.6, 502.4,\n",
       "        507.2, 512. ]),\n",
       " <BarContainer object of 100 artists>)"
      ]
     },
     "execution_count": 29,
     "metadata": {},
     "output_type": "execute_result"
    },
    {
     "data": {
      "image/png": "[encoded data removed]",
      "text/plain": [
       "<Figure size 640x480 with 1 Axes>"
      ]
     },
     "metadata": {},
     "output_type": "display_data"
    }
   ],
   "source": [
    "# plot a histogram of the image sizes\n",
    "plt.hist(df[\"dim\"], bins=100)"
   ]
  },
  {
   "cell_type": "code",
   "execution_count": 30,
   "metadata": {},
   "outputs": [],
   "source": [
    "# create a \"train\" column, that takes 1 if the dim is <200, 0 otherwise\n",
    "df[\"train\"] = df[\"dim\"]<200"
   ]
  },
  {
   "cell_type": "code",
   "execution_count": 31,
   "metadata": {},
   "outputs": [
    {
     "data": {
      "text/plain": [
       "128"
      ]
     },
     "execution_count": 31,
     "metadata": {},
     "output_type": "execute_result"
    }
   ],
   "source": [
    "# view the maximim dim for the train set\n",
    "df[df[\"train\"]][\"dim\"].max()"
   ]
  },
  {
   "cell_type": "code",
   "execution_count": 32,
   "metadata": {},
   "outputs": [],
   "source": [
    "# view the files with similar filenames\n",
    "df[\"filename\"] = df[\"path\"].apply(lambda x: x.split(\"/\")[-1])\n",
    "df[\"filename\"].value_counts()\n",
    "diffusion = df[df[\"train\"]==True]\n",
    "encoding = df[df[\"train\"]==False]\n",
    "# drop the columns with unique filenames, keep the duplicated, for the train colums only\n",
    "diffusion = diffusion[diffusion[\"filename\"].duplicated(keep=False)]\n",
    "# save the datasets\n",
    "diffusion.to_csv(\"diffusion.csv\", index=False)\n",
    "encoding.to_csv(\"encoding.csv\", index=False)"
   ]
  },
  {
   "cell_type": "code",
   "execution_count": null,
   "metadata": {},
   "outputs": [],
   "source": []
  },
  {
   "cell_type": "code",
   "execution_count": null,
   "metadata": {},
   "outputs": [],
   "source": []
  },
  {
   "cell_type": "code",
   "execution_count": null,
   "metadata": {},
   "outputs": [],
   "source": []
  },
  {
   "cell_type": "code",
   "execution_count": null,
   "metadata": {},
   "outputs": [],
   "source": []
  }
 ],
 "metadata": {
  "kernelspec": {
   "display_name": "dev",
   "language": "python",
   "name": "python3"
  },
  "language_info": {
   "codemirror_mode": {
    "name": "ipython",
    "version": 3
   },
   "file_extension": ".py",
   "mimetype": "text/x-python",
   "name": "python",
   "nbconvert_exporter": "python",
   "pygments_lexer": "ipython3",
   "version": "3.10.13"
  }
 },
 "nbformat": 4,
 "nbformat_minor": 2
}
